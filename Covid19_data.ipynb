{
  "nbformat": 4,
  "nbformat_minor": 0,
  "metadata": {
    "colab": {
      "name": "Covid19-data.ipynb",
      "provenance": []
    },
    "kernelspec": {
      "name": "python3",
      "display_name": "Python 3"
    },
    "language_info": {
      "name": "python"
    }
  },
  "cells": [
    {
      "cell_type": "code",
      "metadata": {
        "id": "URBKlcuUuO-0"
      },
      "source": [
        "#to install a package use ! pip install XXXX\n",
        "#installing covid19py package for getting the data\n",
        "\n",
        "\n",
        "!pip install COVID19py"
      ],
      "execution_count": null,
      "outputs": []
    },
    {
      "cell_type": "code",
      "metadata": {
        "id": "ZUhMz6fbuf9Y"
      },
      "source": [
        "import COVID19Py\n",
        "#matplot library for plotting graph\n",
        "import matplotlib.pyplot as plt\n",
        "from matplotlib.pyplot import style\n",
        "covid19 = COVID19Py.COVID19()\n"
      ],
      "execution_count": 3,
      "outputs": []
    },
    {
      "cell_type": "code",
      "metadata": {
        "id": "IPo3pvP8u-9C"
      },
      "source": [
        "locations = covid19.getLocations()\n",
        "#to get the locations of coutries\n",
        "print(\"country : country code \")\n",
        "for i in range((len(locations))):\n",
        "  print(locations[i]['country'] + \" : \"  + locations[i]['country_code'] )"
      ],
      "execution_count": null,
      "outputs": []
    },
    {
      "cell_type": "code",
      "metadata": {
        "id": "1sRxmxZMvfdk"
      },
      "source": [
        "enter = input(\"enter the country code: \")"
      ],
      "execution_count": null,
      "outputs": []
    },
    {
      "cell_type": "code",
      "metadata": {
        "id": "S9pkrWT3voKT"
      },
      "source": [
        "\n",
        "#Run this cell for Global Corona Virus data\n",
        "\n",
        "latest = covid19.getLatest()\n",
        "total_confirmed = latest[\"confirmed\"]\n",
        "total_recovered = latest[\"recovered\"]\n",
        "total_deaths = latest[\"deaths\"]\n",
        "#print(latest)\n",
        "print(\"Total Confirmed :\", total_confirmed)\n",
        "print(\"Total Deaths    :\", total_deaths)\n",
        "print(\"Total Recovered :\", total_recovered)\n"
      ],
      "execution_count": null,
      "outputs": []
    },
    {
      "cell_type": "code",
      "metadata": {
        "id": "sF03D-jIwpqh"
      },
      "source": [
        "location  = covid19.getLocationByCountryCode(enter , timelines=True)\n",
        "country_name = location[0][\"country\"]\n",
        "last_update = location[0][\"last_updated\"]\n",
        "country_latest = location[0][\"latest\"]\n",
        "confirmed = country_latest[\"confirmed\"]\n",
        "deaths = country_latest[\"deaths\"]\n",
        "recovered = country_latest[\"recovered\"]\n",
        "y = last_update.split(\"T\")\n",
        "x = y[1].split(\".\")\n",
        "last_update = y[0] + \" / \"+ x[0]\n",
        "confirmed_time_line = location[0][\"timelines\"]['confirmed']['timeline']\n",
        "deaths_time_line = location[0][\"timelines\"]['deaths']['timeline']\n",
        "recovered_time_line = location[0][\"timelines\"]['recovered']['timeline']\n",
        "\n",
        "\n",
        "#print(confirmed_time_line)\n",
        "#print(deaths_time_line)\n",
        "#print(recovered_time_line)\n",
        "#print(len(confirmed_time_line))\n",
        "\n",
        "\n",
        "print(\"Country Name :\", country_name)\n",
        "print(\"Last Update  :\",last_update )\n",
        "print(\"Confirmed    :\", confirmed)\n",
        "print(\"Deaths       :\", deaths)\n",
        "print(\"Recovered    :\", recovered)"
      ],
      "execution_count": null,
      "outputs": []
    },
    {
      "cell_type": "code",
      "metadata": {
        "id": "EvgYv6Csz_lW"
      },
      "source": [
        "#Graph plot using matplotlib\n",
        "#imported as plt\n",
        "#this graph for confirmed cases\n",
        "\n",
        "\n",
        "\n",
        "plt.plot(list(confirmed_time_line.values()))\n",
        "plt.xlabel('Days since 22nd jan 2020');\n",
        "plt.ylabel('Confirmed cases');\n",
        "title = \"Confirmed cases in \" + country_name\n",
        "plt.title(title);\n",
        "plt.show"
      ],
      "execution_count": null,
      "outputs": []
    },
    {
      "cell_type": "code",
      "metadata": {
        "id": "sYGRR7__0WKs"
      },
      "source": [
        "#imported matplotlib as plt \n",
        "# graph for deaths\n",
        "\n",
        "plt.plot(list(deaths_time_line.values()))\n",
        "plt.xlabel('Days since 22nd jan 2020');\n",
        "plt.ylabel('Deaths');\n",
        "title = \"Deaths in \" + country_name\n",
        "plt.title(title);\n",
        "plt.show"
      ],
      "execution_count": null,
      "outputs": []
    },
    {
      "cell_type": "code",
      "metadata": {
        "id": "LvR26N1O066c"
      },
      "source": [
        "#graph for recovered cases\n",
        "\n",
        "\n",
        "plt.plot(list(recovered_time_line.values()))\n",
        "plt.xlabel('Days since 22nd jan 2020');\n",
        "plt.ylabel('Recoverd Cases');\n",
        "title = \"Recovered in \" + country_name\n",
        "plt.title(title);\n",
        "plt.show\n"
      ],
      "execution_count": null,
      "outputs": []
    },
    {
      "cell_type": "code",
      "metadata": {
        "id": "bAqaLMUN1ZuB"
      },
      "source": [
        "\n",
        "\n",
        "\n",
        "#confirmed cases are plotted in blue\n",
        "#deaths in red \n",
        "#recovered in green\n",
        "\n",
        "\n",
        "l1, = plt.plot(list(confirmed_time_line.values()), 'b')\n",
        "l2, = plt.plot(list(deaths_time_line.values()), 'r')\n",
        "l3, = plt.plot(list(recovered_time_line.values()), 'g')\n",
        "plt.legend(['Confirmed', 'Deaths', 'Recovered'], loc='upper left')\n",
        "plt.xlabel('Days since 22nd Jan 2020');\n",
        "plt.title('COVID-19');\n",
        "plt.show()"
      ],
      "execution_count": null,
      "outputs": []
    },
    {
      "cell_type": "code",
      "metadata": {
        "id": "Fsi35OlT1uyI"
      },
      "source": [
        ""
      ],
      "execution_count": null,
      "outputs": []
    }
  ]
}