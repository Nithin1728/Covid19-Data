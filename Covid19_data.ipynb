{
  "nbformat": 4,
  "nbformat_minor": 0,
  "metadata": {
    "colab": {
      "name": "Covid19-data.ipynb",
      "provenance": []
    },
    "kernelspec": {
      "name": "python3",
      "display_name": "Python 3"
    },
    "language_info": {
      "name": "python"
    }
  },
  "cells": [
    {
      "cell_type": "code",
      "metadata": {
        "colab": {
          "base_uri": "https://localhost:8080/"
        },
        "id": "URBKlcuUuO-0",
        "outputId": "35ecfea5-19e0-4745-fb72-2ed1c1e54ff2"
      },
      "source": [
        "!pip install COVID19py"
      ],
      "execution_count": 1,
      "outputs": [
        {
          "output_type": "stream",
          "text": [
            "Collecting COVID19py\n",
            "  Downloading https://files.pythonhosted.org/packages/d2/e5/d8129426769328cc19d939c7ccb9cb774a79de92cb093bec65f3dc81eb75/COVID19Py-0.3.0.tar.gz\n",
            "Building wheels for collected packages: COVID19py\n",
            "  Building wheel for COVID19py (setup.py) ... \u001b[?25l\u001b[?25hdone\n",
            "  Created wheel for COVID19py: filename=COVID19Py-0.3.0-cp37-none-any.whl size=4718 sha256=9ac9557fd4bc8d2092fc0d4093c13e3c7e219d57069e78707fe752f33b5a90c5\n",
            "  Stored in directory: /root/.cache/pip/wheels/23/78/50/78aaca989f422d636b01b9c55cd5e327fef838e973690f886c\n",
            "Successfully built COVID19py\n",
            "Installing collected packages: COVID19py\n",
            "Successfully installed COVID19py-0.3.0\n"
          ],
          "name": "stdout"
        }
      ]
    },
    {
      "cell_type": "code",
      "metadata": {
        "id": "ZUhMz6fbuf9Y"
      },
      "source": [
        "import COVID19Py\n",
        "#matplot library for plotting graph\n",
        "import matplotlib.pyplot as plt\n",
        "from matplotlib.pyplot import style\n",
        "covid19 = COVID19Py.COVID19()\n"
      ],
      "execution_count": 3,
      "outputs": []
    },
    {
      "cell_type": "code",
      "metadata": {
        "colab": {
          "base_uri": "https://localhost:8080/"
        },
        "id": "IPo3pvP8u-9C",
        "outputId": "9bfa5a55-0bf0-4a07-a164-4e05abab6fc4"
      },
      "source": [
        "locations = covid19.getLocations()\n",
        "print(\"country : country code \")\n",
        "for i in range((len(locations))):\n",
        "  print(locations[i]['country'] + \" : \"  + locations[i]['country_code'] )"
      ],
      "execution_count": 4,
      "outputs": [
        {
          "output_type": "stream",
          "text": [
            "country : country code \n",
            "Afghanistan : AF\n",
            "Albania : AL\n",
            "Algeria : DZ\n",
            "Andorra : AD\n",
            "Angola : AO\n",
            "Antigua and Barbuda : AG\n",
            "Argentina : AR\n",
            "Armenia : AM\n",
            "Australia : AU\n",
            "Australia : AU\n",
            "Australia : AU\n",
            "Australia : AU\n",
            "Australia : AU\n",
            "Australia : AU\n",
            "Australia : AU\n",
            "Australia : AU\n",
            "Austria : AT\n",
            "Azerbaijan : AZ\n",
            "Bahamas : BS\n",
            "Bahrain : BH\n",
            "Bangladesh : BD\n",
            "Barbados : BB\n",
            "Belarus : BY\n",
            "Belgium : BE\n",
            "Belize : BZ\n",
            "Benin : BJ\n",
            "Bhutan : BT\n",
            "Bolivia : BO\n",
            "Bosnia and Herzegovina : BA\n",
            "Botswana : BW\n",
            "Brazil : BR\n",
            "Brunei : BN\n",
            "Bulgaria : BG\n",
            "Burkina Faso : BF\n",
            "Burma : MM\n",
            "Burundi : BI\n",
            "Cabo Verde : CV\n",
            "Cambodia : KH\n",
            "Cameroon : CM\n",
            "Canada : CA\n",
            "Canada : CA\n",
            "Canada : CA\n",
            "Canada : CA\n",
            "Canada : CA\n",
            "Canada : CA\n",
            "Canada : CA\n",
            "Canada : CA\n",
            "Canada : CA\n",
            "Canada : CA\n",
            "Canada : CA\n",
            "Canada : CA\n",
            "Canada : CA\n",
            "Canada : CA\n",
            "Canada : CA\n",
            "Canada : CA\n",
            "Central African Republic : CF\n",
            "Chad : TD\n",
            "Chile : CL\n",
            "China : CN\n",
            "China : CN\n",
            "China : CN\n",
            "China : CN\n",
            "China : CN\n",
            "China : CN\n",
            "China : CN\n",
            "China : CN\n",
            "China : CN\n",
            "China : CN\n",
            "China : CN\n",
            "China : CN\n",
            "China : CN\n",
            "China : CN\n",
            "China : CN\n",
            "China : CN\n",
            "China : CN\n",
            "China : CN\n",
            "China : CN\n",
            "China : CN\n",
            "China : CN\n",
            "China : CN\n",
            "China : CN\n",
            "China : CN\n",
            "China : CN\n",
            "China : CN\n",
            "China : CN\n",
            "China : CN\n",
            "China : CN\n",
            "China : CN\n",
            "China : CN\n",
            "China : CN\n",
            "China : CN\n",
            "Colombia : CO\n",
            "Comoros : KM\n",
            "Congo (Brazzaville) : CG\n",
            "Congo (Kinshasa) : CD\n",
            "Costa Rica : CR\n",
            "Cote d'Ivoire : CI\n",
            "Croatia : HR\n",
            "Cuba : CU\n",
            "Cyprus : CY\n",
            "Czechia : CZ\n",
            "Denmark : DK\n",
            "Denmark : DK\n",
            "Denmark : DK\n",
            "Diamond Princess : XX\n",
            "Djibouti : DJ\n",
            "Dominica : DM\n",
            "Dominican Republic : DO\n",
            "Ecuador : EC\n",
            "Egypt : EG\n",
            "El Salvador : SV\n",
            "Equatorial Guinea : GQ\n",
            "Eritrea : ER\n",
            "Estonia : EE\n",
            "Eswatini : SZ\n",
            "Ethiopia : ET\n",
            "Fiji : FJ\n",
            "Finland : FI\n",
            "France : FR\n",
            "France : FR\n",
            "France : FR\n",
            "France : FR\n",
            "France : FR\n",
            "France : FR\n",
            "France : FR\n",
            "France : FR\n",
            "France : FR\n",
            "France : FR\n",
            "France : FR\n",
            "France : FR\n",
            "Gabon : GA\n",
            "Gambia : GM\n",
            "Georgia : GE\n",
            "Germany : DE\n",
            "Ghana : GH\n",
            "Greece : GR\n",
            "Grenada : GD\n",
            "Guatemala : GT\n",
            "Guinea : GN\n",
            "Guinea-Bissau : GW\n",
            "Guyana : GY\n",
            "Haiti : HT\n",
            "Holy See : VA\n",
            "Honduras : HN\n",
            "Hungary : HU\n",
            "Iceland : IS\n",
            "India : IN\n",
            "Indonesia : ID\n",
            "Iran : IR\n",
            "Iraq : IQ\n",
            "Ireland : IE\n",
            "Israel : IL\n",
            "Italy : IT\n",
            "Jamaica : JM\n",
            "Japan : JP\n",
            "Jordan : JO\n",
            "Kazakhstan : KZ\n",
            "Kenya : KE\n",
            "Korea, South : KR\n",
            "Kosovo : XK\n",
            "Kuwait : KW\n",
            "Kyrgyzstan : KG\n",
            "Laos : LA\n",
            "Latvia : LV\n",
            "Lebanon : LB\n",
            "Lesotho : LS\n",
            "Liberia : LR\n",
            "Libya : LY\n",
            "Liechtenstein : LI\n",
            "Lithuania : LT\n",
            "Luxembourg : LU\n",
            "MS Zaandam : XX\n",
            "Madagascar : MG\n",
            "Malawi : MW\n",
            "Malaysia : MY\n",
            "Maldives : MV\n",
            "Mali : ML\n",
            "Malta : MT\n",
            "Marshall Islands : MH\n",
            "Mauritania : MR\n",
            "Mauritius : MU\n",
            "Mexico : MX\n",
            "Micronesia : FM\n",
            "Moldova : MD\n",
            "Monaco : MC\n",
            "Mongolia : MN\n",
            "Montenegro : ME\n",
            "Morocco : MA\n",
            "Mozambique : MZ\n",
            "Namibia : NA\n",
            "Nepal : NP\n",
            "Netherlands : NL\n",
            "Netherlands : NL\n",
            "Netherlands : NL\n",
            "Netherlands : NL\n",
            "Netherlands : NL\n",
            "New Zealand : NZ\n",
            "Nicaragua : NI\n",
            "Niger : NE\n",
            "Nigeria : NG\n",
            "North Macedonia : MK\n",
            "Norway : NO\n",
            "Oman : OM\n",
            "Pakistan : PK\n",
            "Panama : PA\n",
            "Papua New Guinea : PG\n",
            "Paraguay : PY\n",
            "Peru : PE\n",
            "Philippines : PH\n",
            "Poland : PL\n",
            "Portugal : PT\n",
            "Qatar : QA\n",
            "Romania : RO\n",
            "Russia : RU\n",
            "Rwanda : RW\n",
            "Saint Kitts and Nevis : KN\n",
            "Saint Lucia : LC\n",
            "Saint Vincent and the Grenadines : VC\n",
            "Samoa : WS\n",
            "San Marino : SM\n",
            "Sao Tome and Principe : ST\n",
            "Saudi Arabia : SA\n",
            "Senegal : SN\n",
            "Serbia : RS\n",
            "Seychelles : SC\n",
            "Sierra Leone : SL\n",
            "Singapore : SG\n",
            "Slovakia : SK\n",
            "Slovenia : SI\n",
            "Solomon Islands : SB\n",
            "Somalia : SO\n",
            "South Africa : ZA\n",
            "South Sudan : SS\n",
            "Spain : ES\n",
            "Sri Lanka : LK\n",
            "Sudan : SD\n",
            "Suriname : SR\n",
            "Sweden : SE\n",
            "Switzerland : CH\n",
            "Syria : SY\n",
            "Taiwan* : TW\n",
            "Tajikistan : TJ\n",
            "Tanzania : TZ\n",
            "Thailand : TH\n",
            "Timor-Leste : TL\n",
            "Togo : TG\n",
            "Trinidad and Tobago : TT\n",
            "Tunisia : TN\n",
            "Turkey : TR\n",
            "US : US\n",
            "Uganda : UG\n",
            "Ukraine : UA\n",
            "United Arab Emirates : AE\n",
            "United Kingdom : GB\n",
            "United Kingdom : GB\n",
            "United Kingdom : GB\n",
            "United Kingdom : GB\n",
            "United Kingdom : GB\n",
            "United Kingdom : GB\n",
            "United Kingdom : GB\n",
            "United Kingdom : GB\n",
            "United Kingdom : GB\n",
            "United Kingdom : GB\n",
            "United Kingdom : GB\n",
            "United Kingdom : GB\n",
            "Uruguay : UY\n",
            "Uzbekistan : UZ\n",
            "Vanuatu : VU\n",
            "Venezuela : VE\n",
            "Vietnam : VN\n",
            "West Bank and Gaza : PS\n",
            "Yemen : YE\n",
            "Zambia : ZM\n",
            "Zimbabwe : ZW\n"
          ],
          "name": "stdout"
        }
      ]
    },
    {
      "cell_type": "code",
      "metadata": {
        "colab": {
          "base_uri": "https://localhost:8080/"
        },
        "id": "1sRxmxZMvfdk",
        "outputId": "684ac6bf-098a-40c6-bd05-ef54e8407700"
      },
      "source": [
        "enter = input(\"enter the country code: \")"
      ],
      "execution_count": 11,
      "outputs": [
        {
          "output_type": "stream",
          "text": [
            "enter the country code: IN\n"
          ],
          "name": "stdout"
        }
      ]
    },
    {
      "cell_type": "code",
      "metadata": {
        "colab": {
          "base_uri": "https://localhost:8080/"
        },
        "id": "S9pkrWT3voKT",
        "outputId": "2bec9a41-b499-4989-f7d7-967f3de5f25e"
      },
      "source": [
        "\n",
        "#Run this cell for Global Corona Virus data\n",
        "\n",
        "latest = covid19.getLatest()\n",
        "total_confirmed = latest[\"confirmed\"]\n",
        "total_recovered = latest[\"recovered\"]\n",
        "total_deaths = latest[\"deaths\"]\n",
        "#print(latest)\n",
        "print(\"Total Confirmed :\", total_confirmed)\n",
        "print(\"Total Deaths    :\", total_deaths)\n",
        "print(\"Total Recovered :\", total_recovered)\n"
      ],
      "execution_count": 9,
      "outputs": [
        {
          "output_type": "stream",
          "text": [
            "Total Confirmed : 142098420\n",
            "Total Deaths    : 3029815\n",
            "Total Recovered : 18124721\n"
          ],
          "name": "stdout"
        }
      ]
    },
    {
      "cell_type": "code",
      "metadata": {
        "colab": {
          "base_uri": "https://localhost:8080/"
        },
        "id": "sF03D-jIwpqh",
        "outputId": "92695450-eaec-46c9-caa3-a9d01accccc0"
      },
      "source": [
        "location  = covid19.getLocationByCountryCode(enter , timelines=True)\n",
        "country_name = location[0][\"country\"]\n",
        "last_update = location[0][\"last_updated\"]\n",
        "country_latest = location[0][\"latest\"]\n",
        "confirmed = country_latest[\"confirmed\"]\n",
        "deaths = country_latest[\"deaths\"]\n",
        "recovered = country_latest[\"recovered\"]\n",
        "y = last_update.split(\"T\")\n",
        "x = y[1].split(\".\")\n",
        "last_update = y[0] + \" / \"+ x[0]\n",
        "confirmed_time_line = location[0][\"timelines\"]['confirmed']['timeline']\n",
        "deaths_time_line = location[0][\"timelines\"]['deaths']['timeline']\n",
        "recovered_time_line = location[0][\"timelines\"]['recovered']['timeline']\n",
        "\n",
        "\n",
        "#print(confirmed_time_line)\n",
        "#print(deaths_time_line)\n",
        "#print(recovered_time_line)\n",
        "#print(len(confirmed_time_line))\n",
        "\n",
        "\n",
        "print(\"Country Name :\", country_name)\n",
        "print(\"Last Update  :\",last_update )\n",
        "print(\"Confirmed    :\", confirmed)\n",
        "print(\"Deaths       :\", deaths)\n",
        "print(\"Recovered    :\", recovered)"
      ],
      "execution_count": 12,
      "outputs": [
        {
          "output_type": "stream",
          "text": [
            "Country Name : India\n",
            "Last Update  : 2021-04-20 / 11:12:18\n",
            "Confirmed    : 15320972\n",
            "Deaths       : 180530\n",
            "Recovered    : 0\n"
          ],
          "name": "stdout"
        }
      ]
    },
    {
      "cell_type": "code",
      "metadata": {
        "colab": {
          "base_uri": "https://localhost:8080/",
          "height": 312
        },
        "id": "EvgYv6Csz_lW",
        "outputId": "a9b23e6f-0c87-4e48-e31f-bb456eb153f7"
      },
      "source": [
        "#Graph plot using matplotlib\n",
        "#imported as plt\n",
        "#this graph for confirmed cases\n",
        "\n",
        "\n",
        "\n",
        "plt.plot(list(confirmed_time_line.values()))\n",
        "plt.xlabel('Days since 22nd jan 2020');\n",
        "plt.ylabel('Confirmed cases');\n",
        "title = \"Confirmed cases in \" + country_name\n",
        "plt.title(title);\n",
        "plt.show"
      ],
      "execution_count": 13,
      "outputs": [
        {
          "output_type": "execute_result",
          "data": {
            "text/plain": [
              "<function matplotlib.pyplot.show>"
            ]
          },
          "metadata": {
            "tags": []
          },
          "execution_count": 13
        },
        {
          "output_type": "display_data",
          "data": {
            "image/png": "[encoded data removed]",
            "text/plain": [
              "<Figure size 432x288 with 1 Axes>"
            ]
          },
          "metadata": {
            "tags": [],
            "needs_background": "light"
          }
        }
      ]
    },
    {
      "cell_type": "code",
      "metadata": {
        "colab": {
          "base_uri": "https://localhost:8080/",
          "height": 312
        },
        "id": "sYGRR7__0WKs",
        "outputId": "d54c228d-b426-4d64-8e1f-0f14e473d28c"
      },
      "source": [
        "#imported matplotlib as plt \n",
        "# graph for deaths\n",
        "\n",
        "plt.plot(list(deaths_time_line.values()))\n",
        "plt.xlabel('Days since 22nd jan 2020');\n",
        "plt.ylabel('Deaths');\n",
        "title = \"Deaths in \" + country_name\n",
        "plt.title(title);\n",
        "plt.show"
      ],
      "execution_count": 14,
      "outputs": [
        {
          "output_type": "execute_result",
          "data": {
            "text/plain": [
              "<function matplotlib.pyplot.show>"
            ]
          },
          "metadata": {
            "tags": []
          },
          "execution_count": 14
        },
        {
          "output_type": "display_data",
          "data": {
            "image/png": "[encoded data removed]",
            "text/plain": [
              "<Figure size 432x288 with 1 Axes>"
            ]
          },
          "metadata": {
            "tags": [],
            "needs_background": "light"
          }
        }
      ]
    },
    {
      "cell_type": "code",
      "metadata": {
        "colab": {
          "base_uri": "https://localhost:8080/",
          "height": 312
        },
        "id": "LvR26N1O066c",
        "outputId": "55db57fd-47ff-4603-96e3-411740ec268e"
      },
      "source": [
        "\n",
        "plt.plot(list(recovered_time_line.values()))\n",
        "plt.xlabel('Days since 22nd jan 2020');\n",
        "plt.ylabel('Recoverd Cases');\n",
        "title = \"Recovered in \" + country_name\n",
        "plt.title(title);\n",
        "plt.show\n"
      ],
      "execution_count": 16,
      "outputs": [
        {
          "output_type": "execute_result",
          "data": {
            "text/plain": [
              "<function matplotlib.pyplot.show>"
            ]
          },
          "metadata": {
            "tags": []
          },
          "execution_count": 16
        },
        {
          "output_type": "display_data",
          "data": {
            "image/png": "[encoded data removed]",
            "text/plain": [
              "<Figure size 432x288 with 1 Axes>"
            ]
          },
          "metadata": {
            "tags": [],
            "needs_background": "light"
          }
        }
      ]
    },
    {
      "cell_type": "code",
      "metadata": {
        "colab": {
          "base_uri": "https://localhost:8080/",
          "height": 295
        },
        "id": "bAqaLMUN1ZuB",
        "outputId": "4b6c61b9-7c1b-4853-fa81-26f3a5bb02ff"
      },
      "source": [
        "l1, = plt.plot(list(confirmed_time_line.values()), 'b')\n",
        "l2, = plt.plot(list(deaths_time_line.values()), 'r')\n",
        "l3, = plt.plot(list(recovered_time_line.values()), 'g')\n",
        "plt.legend(['Confirmed', 'Deaths', 'Recovered'], loc='upper left')\n",
        "plt.xlabel('Days since 22nd Jan 2020');\n",
        "plt.title('COVID-19');\n",
        "plt.show()"
      ],
      "execution_count": 17,
      "outputs": [
        {
          "output_type": "display_data",
          "data": {
            "image/png": "[encoded data removed]",
            "text/plain": [
              "<Figure size 432x288 with 1 Axes>"
            ]
          },
          "metadata": {
            "tags": [],
            "needs_background": "light"
          }
        }
      ]
    },
    {
      "cell_type": "code",
      "metadata": {
        "id": "Fsi35OlT1uyI"
      },
      "source": [
        ""
      ],
      "execution_count": null,
      "outputs": []
    }
  ]
}